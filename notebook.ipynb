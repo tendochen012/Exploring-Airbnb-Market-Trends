{
 "cells": [
  {
   "cell_type": "markdown",
   "id": "c747d469-ee97-4b95-880f-feefd5456042",
   "metadata": {
    "id": "bA5ajAmk7XH6"
   },
   "source": [
    "![NYC Skyline](nyc.jpg)\n",
    "\n",
    "Welcome to New York City, one of the most-visited cities in the world. There are many Airbnb listings in New York City to meet the high demand for temporary lodging for travelers, which can be anywhere between a few nights to many months. In this project, we will take a closer look at the New York Airbnb market by combining data from multiple file types like `.csv`, `.tsv`, and `.xlsx`.\n",
    "\n",
    "Recall that **CSV**, **TSV**, and **Excel** files are three common formats for storing data. \n",
    "Three files containing data on 2019 Airbnb listings are available to you:\n",
    "\n",
    "**data/airbnb_price.csv**\n",
    "This is a CSV file containing data on Airbnb listing prices and locations.\n",
    "- **`listing_id`**: unique identifier of listing\n",
    "- **`price`**: nightly listing price in USD\n",
    "- **`nbhood_full`**: name of borough and neighborhood where listing is located\n",
    "\n",
    "**data/airbnb_room_type.xlsx**\n",
    "This is an Excel file containing data on Airbnb listing descriptions and room types.\n",
    "- **`listing_id`**: unique identifier of listing\n",
    "- **`description`**: listing description\n",
    "- **`room_type`**: Airbnb has three types of rooms: shared rooms, private rooms, and entire homes/apartments\n",
    "\n",
    "**data/airbnb_last_review.tsv**\n",
    "This is a TSV file containing data on Airbnb host names and review dates.\n",
    "- **`listing_id`**: unique identifier of listing\n",
    "- **`host_name`**: name of listing host\n",
    "- **`last_review`**: date when the listing was last reviewed"
   ]
  },
  {
   "cell_type": "code",
   "execution_count": 1,
   "id": "1fdc5784-479e-46cb-b05b-68439dcc94a7",
   "metadata": {
    "executionCancelledAt": null,
    "executionTime": 29,
    "lastExecutedAt": 1704135189007,
    "lastScheduledRunId": null,
    "lastSuccessfullyExecutedCode": "# We've loaded your first package for you! You can add as many cells as you need.\nimport numpy as np\nimport pandas as pd\n\nairbnb_last_review = pd.read_csv(\"data/airbnb_last_review.tsv\", sep = \"\\t\")\nairbnb_last_review['last_review'] = pd.to_datetime(airbnb_last_review['last_review'], format = '%B %d %Y')\nearliest_date = airbnb_last_review['last_review'].min()\nrecent_date = airbnb_last_review['last_review'].max()",
    "outputsMetadata": {
     "0": {
      "height": 198,
      "type": "dataFrame"
     }
    }
   },
   "outputs": [],
   "source": [
    "# We've loaded your first package for you! You can add as many cells as you need.\n",
    "import numpy as np\n",
    "import pandas as pd\n",
    "\n",
    "airbnb_last_review = pd.read_csv(\"data/airbnb_last_review.tsv\", sep = \"\\t\")\n",
    "airbnb_last_review['last_review'] = pd.to_datetime(airbnb_last_review['last_review'], format = '%B %d %Y')\n",
    "earliest_date = airbnb_last_review['last_review'].min()\n",
    "recent_date = airbnb_last_review['last_review'].max()"
   ]
  },
  {
   "cell_type": "code",
   "execution_count": 2,
   "id": "1cb15952-665f-45ea-b0e6-4183be8888f7",
   "metadata": {
    "executionCancelledAt": null,
    "executionTime": 1332,
    "lastExecutedAt": 1704135190340,
    "lastScheduledRunId": null,
    "lastSuccessfullyExecutedCode": "airbnb_room_type = pd.ExcelFile('data/airbnb_room_type.xlsx')\nprint(airbnb_room_type.sheet_names)\ndf1 = airbnb_room_type.parse('airbnb_room_type')",
    "outputsMetadata": {
     "0": {
      "height": 37,
      "type": "stream"
     }
    }
   },
   "outputs": [
    {
     "name": "stdout",
     "output_type": "stream",
     "text": [
      "['airbnb_room_type']\n"
     ]
    }
   ],
   "source": [
    "airbnb_room_type = pd.ExcelFile('data/airbnb_room_type.xlsx')\n",
    "print(airbnb_room_type.sheet_names)\n",
    "df1 = airbnb_room_type.parse('airbnb_room_type')"
   ]
  },
  {
   "cell_type": "code",
   "execution_count": 3,
   "id": "68ea4375-81bd-4a73-934d-8f59e67de3e7",
   "metadata": {
    "executionCancelledAt": null,
    "executionTime": 50,
    "lastExecutedAt": 1704135190392,
    "lastScheduledRunId": null,
    "lastSuccessfullyExecutedCode": "df1[\"proper_room_type\"] = df1[\"room_type\"].str.lower()",
    "outputsMetadata": {
     "0": {
      "height": 297,
      "type": "stream"
     }
    }
   },
   "outputs": [],
   "source": [
    "df1[\"proper_room_type\"] = df1[\"room_type\"].str.lower()"
   ]
  },
  {
   "cell_type": "code",
   "execution_count": 4,
   "id": "cf368f0e-67da-445f-b3e8-9d0bb28ecdf6",
   "metadata": {
    "executionCancelledAt": null,
    "executionTime": 52,
    "lastExecutedAt": 1704135190444,
    "lastScheduledRunId": null,
    "lastSuccessfullyExecutedCode": "room_counts = df1[\"proper_room_type\"].value_counts(dropna = False)"
   },
   "outputs": [],
   "source": [
    "room_counts = df1[\"proper_room_type\"].value_counts(dropna = False)"
   ]
  },
  {
   "cell_type": "code",
   "execution_count": 5,
   "id": "f7d572e0-9cc3-467b-98fe-d324ee4fdb39",
   "metadata": {
    "executionCancelledAt": null,
    "executionTime": 47,
    "lastExecutedAt": 1704135190492,
    "lastScheduledRunId": null,
    "lastSuccessfullyExecutedCode": "private_count = room_counts[1]"
   },
   "outputs": [],
   "source": [
    "private_count = room_counts[1]"
   ]
  },
  {
   "cell_type": "code",
   "execution_count": 6,
   "id": "0332b690-92bb-4c5a-b802-27730e800380",
   "metadata": {
    "executionCancelledAt": null,
    "executionTime": 47,
    "lastExecutedAt": 1704135190540,
    "lastScheduledRunId": null,
    "lastSuccessfullyExecutedCode": "airbnb_price = pd.read_csv(\"data/airbnb_price.csv\")"
   },
   "outputs": [],
   "source": [
    "airbnb_price = pd.read_csv(\"data/airbnb_price.csv\")"
   ]
  },
  {
   "cell_type": "code",
   "execution_count": 7,
   "id": "3d199e19-84d1-4aac-bb74-3accc8133e4d",
   "metadata": {
    "executionCancelledAt": null,
    "executionTime": 55,
    "lastExecutedAt": 1704135190596,
    "lastScheduledRunId": null,
    "lastSuccessfullyExecutedCode": "airbnb_price.head()\nairbnb_price[\"price\"] = airbnb_price[\"price\"].str.strip()",
    "outputsMetadata": {
     "0": {
      "height": 198,
      "type": "dataFrame"
     }
    }
   },
   "outputs": [],
   "source": [
    "airbnb_price.head()\n",
    "airbnb_price[\"price\"] = airbnb_price[\"price\"].str.strip()"
   ]
  },
  {
   "cell_type": "code",
   "execution_count": 8,
   "id": "a3e0a167-6ba2-45c5-a6d6-85ad6a61c8ac",
   "metadata": {
    "executionCancelledAt": null,
    "executionTime": 62,
    "lastExecutedAt": 1704135190660,
    "lastScheduledRunId": null,
    "lastSuccessfullyExecutedCode": "airbnb_price[\"price_adj\"] = airbnb_price[\"price\"].str.replace(\" dollars\",\"\")"
   },
   "outputs": [],
   "source": [
    "airbnb_price[\"price_adj\"] = airbnb_price[\"price\"].str.replace(\" dollars\",\"\")"
   ]
  },
  {
   "cell_type": "code",
   "execution_count": 9,
   "id": "a7836c74-c49b-4a39-ad7f-cef6698749a9",
   "metadata": {
    "executionCancelledAt": null,
    "executionTime": 58,
    "lastExecutedAt": 1704135190720,
    "lastScheduledRunId": null,
    "lastSuccessfullyExecutedCode": "airbnb_price[\"price_adj\"] = airbnb_price[\"price_adj\"].astype(\"float\")",
    "outputsMetadata": {
     "0": {
      "height": 198,
      "type": "dataFrame"
     }
    }
   },
   "outputs": [],
   "source": [
    "airbnb_price[\"price_adj\"] = airbnb_price[\"price_adj\"].astype(\"float\")"
   ]
  },
  {
   "cell_type": "code",
   "execution_count": 10,
   "id": "9477f57a-a2d5-4e42-8514-b9bfff904865",
   "metadata": {
    "executionCancelledAt": null,
    "executionTime": 47,
    "lastExecutedAt": 1704135190768,
    "lastScheduledRunId": null,
    "lastSuccessfullyExecutedCode": "df1 = pd.DataFrame(df1)",
    "outputsMetadata": {
     "0": {
      "height": 329,
      "type": "dataFrame"
     }
    }
   },
   "outputs": [],
   "source": [
    "df1 = pd.DataFrame(df1)"
   ]
  },
  {
   "cell_type": "code",
   "execution_count": null,
   "id": "f1a85054-deb2-49d1-bd69-6b25a2fb745e",
   "metadata": {
    "executionCancelledAt": null,
    "executionTime": 47,
    "lastExecutedAt": 1704135190816,
    "lastScheduledRunId": null,
    "lastSuccessfullyExecutedCode": ""
   },
   "outputs": [],
   "source": []
  },
  {
   "cell_type": "code",
   "execution_count": 11,
   "id": "71643c01-7de7-48c8-ad57-c9808cc143ea",
   "metadata": {
    "executionCancelledAt": null,
    "executionTime": 49,
    "lastExecutedAt": 1704135190866,
    "lastScheduledRunId": null,
    "lastSuccessfullyExecutedCode": "#merge airbnb_price and df1 together\nairbnb_price_room = airbnb_price.merge(df1, on = \"listing_id\", how = \"outer\", suffixes= (\"_price\", \"room\"))\nairbnb_price_room.head()",
    "outputsMetadata": {
     "0": {
      "height": 198,
      "type": "dataFrame"
     }
    }
   },
   "outputs": [
    {
     "data": {
      "text/html": [
       "<div>\n",
       "<style scoped>\n",
       "    .dataframe tbody tr th:only-of-type {\n",
       "        vertical-align: middle;\n",
       "    }\n",
       "\n",
       "    .dataframe tbody tr th {\n",
       "        vertical-align: top;\n",
       "    }\n",
       "\n",
       "    .dataframe thead th {\n",
       "        text-align: right;\n",
       "    }\n",
       "</style>\n",
       "<table border=\"1\" class=\"dataframe\">\n",
       "  <thead>\n",
       "    <tr style=\"text-align: right;\">\n",
       "      <th></th>\n",
       "      <th>listing_id</th>\n",
       "      <th>price</th>\n",
       "      <th>nbhood_full</th>\n",
       "      <th>price_adj</th>\n",
       "      <th>description</th>\n",
       "      <th>room_type</th>\n",
       "      <th>proper_room_type</th>\n",
       "    </tr>\n",
       "  </thead>\n",
       "  <tbody>\n",
       "    <tr>\n",
       "      <th>0</th>\n",
       "      <td>2595</td>\n",
       "      <td>225 dollars</td>\n",
       "      <td>Manhattan, Midtown</td>\n",
       "      <td>225.0</td>\n",
       "      <td>Skylit Midtown Castle</td>\n",
       "      <td>Entire home/apt</td>\n",
       "      <td>entire home/apt</td>\n",
       "    </tr>\n",
       "    <tr>\n",
       "      <th>1</th>\n",
       "      <td>3831</td>\n",
       "      <td>89 dollars</td>\n",
       "      <td>Brooklyn, Clinton Hill</td>\n",
       "      <td>89.0</td>\n",
       "      <td>Cozy Entire Floor of Brownstone</td>\n",
       "      <td>Entire home/apt</td>\n",
       "      <td>entire home/apt</td>\n",
       "    </tr>\n",
       "    <tr>\n",
       "      <th>2</th>\n",
       "      <td>5099</td>\n",
       "      <td>200 dollars</td>\n",
       "      <td>Manhattan, Murray Hill</td>\n",
       "      <td>200.0</td>\n",
       "      <td>Large Cozy 1 BR Apartment In Midtown East</td>\n",
       "      <td>Entire home/apt</td>\n",
       "      <td>entire home/apt</td>\n",
       "    </tr>\n",
       "    <tr>\n",
       "      <th>3</th>\n",
       "      <td>5178</td>\n",
       "      <td>79 dollars</td>\n",
       "      <td>Manhattan, Hell's Kitchen</td>\n",
       "      <td>79.0</td>\n",
       "      <td>Large Furnished Room Near B'way</td>\n",
       "      <td>private room</td>\n",
       "      <td>private room</td>\n",
       "    </tr>\n",
       "    <tr>\n",
       "      <th>4</th>\n",
       "      <td>5238</td>\n",
       "      <td>150 dollars</td>\n",
       "      <td>Manhattan, Chinatown</td>\n",
       "      <td>150.0</td>\n",
       "      <td>Cute &amp; Cozy Lower East Side 1 bdrm</td>\n",
       "      <td>Entire home/apt</td>\n",
       "      <td>entire home/apt</td>\n",
       "    </tr>\n",
       "  </tbody>\n",
       "</table>\n",
       "</div>"
      ],
      "text/plain": [
       "   listing_id        price                nbhood_full  price_adj  \\\n",
       "0        2595  225 dollars         Manhattan, Midtown      225.0   \n",
       "1        3831   89 dollars     Brooklyn, Clinton Hill       89.0   \n",
       "2        5099  200 dollars     Manhattan, Murray Hill      200.0   \n",
       "3        5178   79 dollars  Manhattan, Hell's Kitchen       79.0   \n",
       "4        5238  150 dollars       Manhattan, Chinatown      150.0   \n",
       "\n",
       "                                 description        room_type proper_room_type  \n",
       "0                      Skylit Midtown Castle  Entire home/apt  entire home/apt  \n",
       "1            Cozy Entire Floor of Brownstone  Entire home/apt  entire home/apt  \n",
       "2  Large Cozy 1 BR Apartment In Midtown East  Entire home/apt  entire home/apt  \n",
       "3            Large Furnished Room Near B'way     private room     private room  \n",
       "4         Cute & Cozy Lower East Side 1 bdrm  Entire home/apt  entire home/apt  "
      ]
     },
     "execution_count": 11,
     "metadata": {},
     "output_type": "execute_result"
    }
   ],
   "source": [
    "#merge airbnb_price and df1 together\n",
    "airbnb_price_room = airbnb_price.merge(df1, on = \"listing_id\", how = \"outer\", suffixes= (\"_price\", \"room\"))\n",
    "airbnb_price_room.head()"
   ]
  },
  {
   "cell_type": "code",
   "execution_count": 12,
   "id": "b4afad09-ad3c-4d7b-b667-c8e9f0dc4f5b",
   "metadata": {
    "executionCancelledAt": null,
    "executionTime": 54,
    "lastExecutedAt": 1704135190920,
    "lastScheduledRunId": null,
    "lastSuccessfullyExecutedCode": "average_price = airbnb_price_room[\"price_adj\"].mean().round(2)",
    "outputsMetadata": {
     "0": {
      "height": 37,
      "type": "stream"
     }
    }
   },
   "outputs": [],
   "source": [
    "average_price = airbnb_price_room[\"price_adj\"].mean().round(2)"
   ]
  },
  {
   "cell_type": "code",
   "execution_count": 13,
   "id": "0e2eeaf6-8c56-4a1c-9d00-fdb1016ddf0b",
   "metadata": {
    "executionCancelledAt": null,
    "executionTime": 50,
    "lastExecutedAt": 1704135190972,
    "lastScheduledRunId": null,
    "lastSuccessfullyExecutedCode": "my_dict = [{\"first_reviewed\" : earliest_date,\n     \"last_reviewed\" : recent_date,\n     \"nb_private_rooms\" : private_count,\n      \"avg_price\": average_price}]\n    "
   },
   "outputs": [],
   "source": [
    "my_dict = [{\"first_reviewed\" : earliest_date,\n",
    "     \"last_reviewed\" : recent_date,\n",
    "     \"nb_private_rooms\" : private_count,\n",
    "      \"avg_price\": average_price}]\n",
    "    "
   ]
  },
  {
   "cell_type": "code",
   "execution_count": 14,
   "id": "b282de3f-c206-4b2a-8094-9df20ee43937",
   "metadata": {
    "executionCancelledAt": null,
    "executionTime": 55,
    "lastExecutedAt": 1704135191028,
    "lastScheduledRunId": null,
    "lastSuccessfullyExecutedCode": "review_dates = pd.DataFrame(my_dict)"
   },
   "outputs": [],
   "source": [
    "review_dates = pd.DataFrame(my_dict)"
   ]
  },
  {
   "cell_type": "code",
   "execution_count": 15,
   "id": "1dfb7be2-167e-4e2d-82ce-2bb379c51342",
   "metadata": {
    "executionCancelledAt": null,
    "executionTime": 60,
    "lastExecutedAt": 1704135191090,
    "lastScheduledRunId": null,
    "lastSuccessfullyExecutedCode": "display(review_dates)",
    "outputsMetadata": {
     "0": {
      "height": 98,
      "type": "dataFrame"
     }
    }
   },
   "outputs": [
    {
     "data": {
      "text/html": [
       "<div>\n",
       "<style scoped>\n",
       "    .dataframe tbody tr th:only-of-type {\n",
       "        vertical-align: middle;\n",
       "    }\n",
       "\n",
       "    .dataframe tbody tr th {\n",
       "        vertical-align: top;\n",
       "    }\n",
       "\n",
       "    .dataframe thead th {\n",
       "        text-align: right;\n",
       "    }\n",
       "</style>\n",
       "<table border=\"1\" class=\"dataframe\">\n",
       "  <thead>\n",
       "    <tr style=\"text-align: right;\">\n",
       "      <th></th>\n",
       "      <th>first_reviewed</th>\n",
       "      <th>last_reviewed</th>\n",
       "      <th>nb_private_rooms</th>\n",
       "      <th>avg_price</th>\n",
       "    </tr>\n",
       "  </thead>\n",
       "  <tbody>\n",
       "    <tr>\n",
       "      <th>0</th>\n",
       "      <td>2019-01-01</td>\n",
       "      <td>2019-07-09</td>\n",
       "      <td>11356</td>\n",
       "      <td>141.78</td>\n",
       "    </tr>\n",
       "  </tbody>\n",
       "</table>\n",
       "</div>"
      ],
      "text/plain": [
       "  first_reviewed last_reviewed  nb_private_rooms  avg_price\n",
       "0     2019-01-01    2019-07-09             11356     141.78"
      ]
     },
     "metadata": {},
     "output_type": "display_data"
    }
   ],
   "source": [
    "display(review_dates)"
   ]
  }
 ],
 "metadata": {
  "colab": {
   "name": "Welcome to DataCamp Workspaces.ipynb",
   "provenance": []
  },
  "kernelspec": {
   "display_name": "Python 3 (ipykernel)",
   "language": "python",
   "name": "python3"
  },
  "language_info": {
   "codemirror_mode": {
    "name": "ipython",
    "version": 3
   },
   "file_extension": ".py",
   "mimetype": "text/x-python",
   "name": "python",
   "nbconvert_exporter": "python",
   "pygments_lexer": "ipython3",
   "version": "3.10.9"
  }
 },
 "nbformat": 4,
 "nbformat_minor": 5
}
